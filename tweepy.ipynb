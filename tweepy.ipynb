{
 "cells": [
  {
   "cell_type": "code",
   "execution_count": 1,
   "id": "3b37743b",
   "metadata": {},
   "outputs": [
    {
     "name": "stdout",
     "output_type": "stream",
     "text": [
      "Unconditional love &amp; acceptance.\n",
      "Happy Mother’s Day! https://t.co/ILa7kUESP4\n",
      "My Village needs #NOFILTER https://t.co/jjU6yg34Qv\n",
      "Visited My ancestral temple Of  Goddess Durga ❤️🙏🏼….. sending you blessings https://t.co/A0gNvLGyZR\n",
      "Is eid ka swagat karein, ek nayi khushboo ke sath. On popular demand presenting 1965 Oud.\n",
      "A https://t.co/q6ImMN9JHQ… https://t.co/bEzdLlscLn\n",
      "Congratulations @HimeshMelodies #AmritaKak @Ahmedshabbir20 #haiderkhan #shamiraah on #ORanjhana \n",
      "It’s a beautiful t… https://t.co/49OQXZXERA\n",
      "🥕 https://t.co/lgxVtNOoU0\n",
      "Peace out ✌🏼 https://t.co/fTLFjCyCKq\n",
      "Let’s celebrate as one big family this festive season! Big treats await the big billers, head to your nearest Being… https://t.co/qDDZqVx9CM\n",
      "Every place has a story to tell…… \n",
      ".\n",
      ".\n",
      ".\n",
      "@JourneyLabel https://t.co/XREO3A9YTh\n",
      "The Gold The Glitter …. https://t.co/l8CE9z7Tr1\n",
      "Holidays are back !! whenever you Think Holiday, Think JourneyLabel! They are worth all the hype and love. I found… https://t.co/5JotmGLyz3\n",
      "People take pictures first, and then ask, “Madam kaunse Serial mein Ate ho?” Or the best is “ Aap Actor ho?” … Is t… https://t.co/ZbM2y6yLUc\n",
      "Reminisce your love with #ArjunKanungo and #Iuliavantur's musical melody #TeraThaTeraHoon 💖\n",
      "SONG OUT NOW!… https://t.co/JQTX7PxOXc\n",
      "Hiclousia….. https://t.co/OxxBguUZCY\n",
      "Congratulations, I love you…..All…\n",
      "\n",
      "Loved the violence @TheNameIsYash \n",
      "\n",
      "peace out….. ✌️\n",
      "\n",
      "Great job @SrinidhiShetty7… https://t.co/Fm5hpvLmts\n",
      "Let love take you over with #ArjunKanungo and #IuliaVantur’s #TeraThaTeraHoon.\n",
      "SONG OUT TOMORROW!💖 @arjun_kanungo… https://t.co/ID0CzVQYzE\n",
      "A massive thank you to Indigo ground staff at Amritsar airport for your support and help in getting my favourite ho… https://t.co/IDXQrCSOJd\n",
      "Last day, but lasting memories….. \n",
      ".\n",
      ".\n",
      ".\n",
      "@TheLeelaHotels @JourneyLabel \n",
      "\n",
      "#TheLeelaGoa #TheLeela #MyLeelaGoa… https://t.co/jGvMo1SpnH\n",
      "Taking Home  ❤️ everywhere I go\n",
      ".\n",
      ".\n",
      "@JourneyLabel @TheLeelaHotels \n",
      "\n",
      "#TheLeelaGoa #TheLeela #MyLeelaGoa… https://t.co/TLRqEXy3JZ\n",
      "Hum toh aise hain Bhaiyaaa……. \n",
      ":\n",
      ":\n",
      "@JourneyLabel @TheLeelaHotels \n",
      "#TheLeelaGoa #TheLeela #MyLeelaGoa #LeelaMoments… https://t.co/wFtcyoKCRU\n"
     ]
    }
   ],
   "source": [
    "import tweepy\n",
    "auth = tweepy.OAuthHandler(\"FdJTfPfIkAAtvjc796zxCOUc7\", \"lSY1EUottjPFYquAnRGDt5PDGjcSRcjhbAG3vvYHjeTvayuBIm\")\n",
    "auth.set_access_token(\"1352498382443474944-lh4WqzC6ZGRbgcyqs8RzMplyDzNdEy\", \"z5lBxRVsG1Lxjcam7rRIWuU0tMyTNMDLVYc8oHb03mxr9\")\n",
    "api = tweepy.API(auth)\n",
    "tweets = api.home_timeline()\n",
    "for tweet in tweets:\n",
    "    print(tweet.text)"
   ]
  },
  {
   "cell_type": "code",
   "execution_count": null,
   "id": "4ba46334",
   "metadata": {},
   "outputs": [],
   "source": []
  }
 ],
 "metadata": {
  "kernelspec": {
   "display_name": "Python 3 (ipykernel)",
   "language": "python",
   "name": "python3"
  },
  "language_info": {
   "codemirror_mode": {
    "name": "ipython",
    "version": 3
   },
   "file_extension": ".py",
   "mimetype": "text/x-python",
   "name": "python",
   "nbconvert_exporter": "python",
   "pygments_lexer": "ipython3",
   "version": "3.10.2"
  }
 },
 "nbformat": 4,
 "nbformat_minor": 5
}
